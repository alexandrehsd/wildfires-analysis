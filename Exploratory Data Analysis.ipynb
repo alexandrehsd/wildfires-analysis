{
 "cells": [
  {
   "cell_type": "markdown",
   "metadata": {},
   "source": [
    "# Exploratory Data Analysis"
   ]
  },
  {
   "cell_type": "markdown",
   "metadata": {},
   "source": [
    "### Carregando a base"
   ]
  },
  {
   "cell_type": "code",
   "execution_count": 26,
   "metadata": {},
   "outputs": [
    {
     "name": "stderr",
     "output_type": "stream",
     "text": [
      "Registered S3 methods overwritten by 'ggplot2':\n",
      "  method         from \n",
      "  [.quosures     rlang\n",
      "  c.quosures     rlang\n",
      "  print.quosures rlang\n"
     ]
    }
   ],
   "source": [
    "# Carregando pacotes \n",
    "library(pryr) # Informações sobre consumo de memória\n",
    "library(lubridate) # Manipulação de datas\n",
    "library(dplyr) # Manipulação de DataFrames\n",
    "library(ggplot2)"
   ]
  },
  {
   "cell_type": "code",
   "execution_count": 2,
   "metadata": {},
   "outputs": [],
   "source": [
    "df <- read.csv(\"./database/Focos.2018-09-01.2019-09-01.csv\")"
   ]
  },
  {
   "cell_type": "code",
   "execution_count": 3,
   "metadata": {},
   "outputs": [
    {
     "data": {
      "text/html": [
       "<ol class=list-inline>\n",
       "\t<li>'DataHora'</li>\n",
       "\t<li>'Satelite'</li>\n",
       "\t<li>'Pais'</li>\n",
       "\t<li>'Estado'</li>\n",
       "\t<li>'Municipi'</li>\n",
       "\t<li>'Bioma'</li>\n",
       "\t<li>'DiaSemCh'</li>\n",
       "\t<li>'Precipit'</li>\n",
       "\t<li>'RiscoFog'</li>\n",
       "\t<li>'Latitude'</li>\n",
       "\t<li>'Longitud'</li>\n",
       "\t<li>'AreaIndu'</li>\n",
       "\t<li>'FRP'</li>\n",
       "</ol>\n"
      ],
      "text/latex": [
       "\\begin{enumerate*}\n",
       "\\item 'DataHora'\n",
       "\\item 'Satelite'\n",
       "\\item 'Pais'\n",
       "\\item 'Estado'\n",
       "\\item 'Municipi'\n",
       "\\item 'Bioma'\n",
       "\\item 'DiaSemCh'\n",
       "\\item 'Precipit'\n",
       "\\item 'RiscoFog'\n",
       "\\item 'Latitude'\n",
       "\\item 'Longitud'\n",
       "\\item 'AreaIndu'\n",
       "\\item 'FRP'\n",
       "\\end{enumerate*}\n"
      ],
      "text/markdown": [
       "1. 'DataHora'\n",
       "2. 'Satelite'\n",
       "3. 'Pais'\n",
       "4. 'Estado'\n",
       "5. 'Municipi'\n",
       "6. 'Bioma'\n",
       "7. 'DiaSemCh'\n",
       "8. 'Precipit'\n",
       "9. 'RiscoFog'\n",
       "10. 'Latitude'\n",
       "11. 'Longitud'\n",
       "12. 'AreaIndu'\n",
       "13. 'FRP'\n",
       "\n",
       "\n"
      ],
      "text/plain": [
       " [1] \"DataHora\" \"Satelite\" \"Pais\"     \"Estado\"   \"Municipi\" \"Bioma\"   \n",
       " [7] \"DiaSemCh\" \"Precipit\" \"RiscoFog\" \"Latitude\" \"Longitud\" \"AreaIndu\"\n",
       "[13] \"FRP\"     "
      ]
     },
     "metadata": {},
     "output_type": "display_data"
    }
   ],
   "source": [
    "names(df)"
   ]
  },
  {
   "cell_type": "code",
   "execution_count": 4,
   "metadata": {},
   "outputs": [
    {
     "name": "stdout",
     "output_type": "stream",
     "text": [
      "'data.frame':\t2336272 obs. of  13 variables:\n",
      " $ DataHora: Factor w/ 211999 levels \"2018/09/01 00:03:04\",..: 1 1 1 2 2 3 3 4 4 4 ...\n",
      " $ Satelite: Factor w/ 16 levels \"AQUA_M-M\",\"AQUA_M-T\",..: 3 3 3 3 3 3 3 3 3 3 ...\n",
      " $ Pais    : Factor w/ 1 level \"Brasil\": 1 1 1 1 1 1 1 1 1 1 ...\n",
      " $ Estado  : Factor w/ 27 levels \"ACRE\",\"ALAGOAS\",..: 25 25 25 25 25 9 9 9 9 9 ...\n",
      " $ Municipi: Factor w/ 5167 levels \"ABADIA DE GOIAS\",..: 941 1694 4808 2231 2231 2285 2285 3963 3963 3963 ...\n",
      " $ Bioma   : Factor w/ 7 levels \"\",\"Amazonia\",..: 5 5 5 4 4 5 5 4 4 4 ...\n",
      " $ DiaSemCh: int  7 7 7 8 8 8 8 7 7 7 ...\n",
      " $ Precipit: num  1.2 1.2 1.2 0.1 0 0 0 0 0 0 ...\n",
      " $ RiscoFog: num  1 1 1 1 1 1 1 1 1 1 ...\n",
      " $ Latitude: num  -22.9 -22.9 -22.9 -21.6 -21.6 ...\n",
      " $ Longitud: num  -50.6 -50.6 -50.6 -48.7 -48.7 ...\n",
      " $ AreaIndu: logi  NA NA NA NA NA NA ...\n",
      " $ FRP     : num  NA NA NA NA NA NA NA NA NA NA ...\n"
     ]
    }
   ],
   "source": [
    "str(df)"
   ]
  },
  {
   "cell_type": "markdown",
   "metadata": {},
   "source": [
    "Aparentemente, A coluna de área industrial e FRP tem poucas entrada"
   ]
  },
  {
   "cell_type": "code",
   "execution_count": 5,
   "metadata": {},
   "outputs": [
    {
     "data": {
      "text/html": [
       "'Porcentagem de entradas NA em AreaIndu = 100'"
      ],
      "text/latex": [
       "'Porcentagem de entradas NA em AreaIndu = 100'"
      ],
      "text/markdown": [
       "'Porcentagem de entradas NA em AreaIndu = 100'"
      ],
      "text/plain": [
       "[1] \"Porcentagem de entradas NA em AreaIndu = 100\""
      ]
     },
     "metadata": {},
     "output_type": "display_data"
    },
    {
     "data": {
      "text/html": [
       "'Porcentagem de entradas NA em FRP = 36.2080699507592'"
      ],
      "text/latex": [
       "'Porcentagem de entradas NA em FRP = 36.2080699507592'"
      ],
      "text/markdown": [
       "'Porcentagem de entradas NA em FRP = 36.2080699507592'"
      ],
      "text/plain": [
       "[1] \"Porcentagem de entradas NA em FRP = 36.2080699507592\""
      ]
     },
     "metadata": {},
     "output_type": "display_data"
    }
   ],
   "source": [
    "paste(\"Porcentagem de entradas NA em AreaIndu =\",\n",
    "      100*sum(is.na(df$AreaIndu))/nrow(df))\n",
    "\n",
    "paste(\"Porcentagem de entradas NA em FRP =\",\n",
    "      100*sum(is.na(df$FRP))/nrow(df))"
   ]
  },
  {
   "cell_type": "code",
   "execution_count": 6,
   "metadata": {},
   "outputs": [
    {
     "data": {
      "text/plain": [
       "187 MB"
      ]
     },
     "metadata": {},
     "output_type": "display_data"
    },
    {
     "data": {
      "text/plain": [
       "178 MB"
      ]
     },
     "metadata": {},
     "output_type": "display_data"
    }
   ],
   "source": [
    "# Verificando quanto de memória ganha-se eliminando a linha de NAs AreaIndu\n",
    "object_size(df)\n",
    "df$AreaIndu <- NULL\n",
    "\n",
    "object_size(df)"
   ]
  },
  {
   "cell_type": "markdown",
   "metadata": {},
   "source": [
    "A redução de memória consumida eliminando-se a coluna de AreaIndu foi de 187 - 178 = 9 MB."
   ]
  },
  {
   "cell_type": "code",
   "execution_count": 7,
   "metadata": {},
   "outputs": [
    {
     "data": {
      "text/html": [
       "'Brasil'"
      ],
      "text/latex": [
       "'Brasil'"
      ],
      "text/markdown": [
       "'Brasil'"
      ],
      "text/plain": [
       "[1] \"Brasil\""
      ]
     },
     "metadata": {},
     "output_type": "display_data"
    }
   ],
   "source": [
    "levels(df$Pais)"
   ]
  },
  {
   "cell_type": "markdown",
   "metadata": {},
   "source": [
    "Como os dados são apenas do Brasil, também não precisamos da coluna de País."
   ]
  },
  {
   "cell_type": "code",
   "execution_count": 8,
   "metadata": {},
   "outputs": [
    {
     "data": {
      "text/plain": [
       "169 MB"
      ]
     },
     "metadata": {},
     "output_type": "display_data"
    }
   ],
   "source": [
    "df$Pais <- NULL\n",
    "\n",
    "object_size(df)"
   ]
  },
  {
   "cell_type": "markdown",
   "metadata": {},
   "source": [
    "Assim, ganhamos mais 9 MB de memória.\n",
    "\n",
    "A coluna DataHora é do tipo datetime. Vamos convertê-la."
   ]
  },
  {
   "cell_type": "code",
   "execution_count": 9,
   "metadata": {},
   "outputs": [],
   "source": [
    "df$DataHora <- ymd_hms(df$DataHora)"
   ]
  },
  {
   "cell_type": "code",
   "execution_count": 10,
   "metadata": {},
   "outputs": [
    {
     "data": {
      "text/plain": [
       "159 MB"
      ]
     },
     "metadata": {},
     "output_type": "display_data"
    }
   ],
   "source": [
    "object_size(df)"
   ]
  },
  {
   "cell_type": "markdown",
   "metadata": {},
   "source": [
    "Com isso, ganhamos mais 10 MB."
   ]
  },
  {
   "cell_type": "markdown",
   "metadata": {},
   "source": [
    "#### Eliminando Dados sem informações de Biomas"
   ]
  },
  {
   "cell_type": "code",
   "execution_count": 11,
   "metadata": {},
   "outputs": [
    {
     "data": {
      "text/html": [
       "<table>\n",
       "<thead><tr><th scope=col>DataHora</th><th scope=col>Satelite</th><th scope=col>Estado</th><th scope=col>Municipi</th><th scope=col>Bioma</th><th scope=col>DiaSemCh</th><th scope=col>Precipit</th><th scope=col>RiscoFog</th><th scope=col>Latitude</th><th scope=col>Longitud</th><th scope=col>FRP</th></tr></thead>\n",
       "<tbody>\n",
       "\t<tr><td>2018-09-21 20:07:26</td><td>NOAA-19            </td><td>RIO GRANDE DO SUL  </td><td>LAGOA DOS PATOS    </td><td>                   </td><td>0                  </td><td>0                  </td><td>0.05               </td><td>-30.63081          </td><td>-50.79586          </td><td> NA                </td></tr>\n",
       "\t<tr><td>2019-07-21 18:00:00</td><td>NPP-375            </td><td>RIO GRANDE DO SUL  </td><td>LAGOA DOS PATOS    </td><td>                   </td><td>9                  </td><td>0                  </td><td>0.07               </td><td>-31.93700          </td><td>-52.15419          </td><td>3.6                </td></tr>\n",
       "</tbody>\n",
       "</table>\n"
      ],
      "text/latex": [
       "\\begin{tabular}{r|lllllllllll}\n",
       " DataHora & Satelite & Estado & Municipi & Bioma & DiaSemCh & Precipit & RiscoFog & Latitude & Longitud & FRP\\\\\n",
       "\\hline\n",
       "\t 2018-09-21 20:07:26 & NOAA-19             & RIO GRANDE DO SUL   & LAGOA DOS PATOS     &                     & 0                   & 0                   & 0.05                & -30.63081           & -50.79586           &  NA                \\\\\n",
       "\t 2019-07-21 18:00:00 & NPP-375             & RIO GRANDE DO SUL   & LAGOA DOS PATOS     &                     & 9                   & 0                   & 0.07                & -31.93700           & -52.15419           & 3.6                \\\\\n",
       "\\end{tabular}\n"
      ],
      "text/markdown": [
       "\n",
       "| DataHora | Satelite | Estado | Municipi | Bioma | DiaSemCh | Precipit | RiscoFog | Latitude | Longitud | FRP |\n",
       "|---|---|---|---|---|---|---|---|---|---|---|\n",
       "| 2018-09-21 20:07:26 | NOAA-19             | RIO GRANDE DO SUL   | LAGOA DOS PATOS     |                     | 0                   | 0                   | 0.05                | -30.63081           | -50.79586           |  NA                 |\n",
       "| 2019-07-21 18:00:00 | NPP-375             | RIO GRANDE DO SUL   | LAGOA DOS PATOS     |                     | 9                   | 0                   | 0.07                | -31.93700           | -52.15419           | 3.6                 |\n",
       "\n"
      ],
      "text/plain": [
       "  DataHora            Satelite Estado            Municipi        Bioma DiaSemCh\n",
       "1 2018-09-21 20:07:26 NOAA-19  RIO GRANDE DO SUL LAGOA DOS PATOS       0       \n",
       "2 2019-07-21 18:00:00 NPP-375  RIO GRANDE DO SUL LAGOA DOS PATOS       9       \n",
       "  Precipit RiscoFog Latitude  Longitud  FRP\n",
       "1 0        0.05     -30.63081 -50.79586  NA\n",
       "2 0        0.07     -31.93700 -52.15419 3.6"
      ]
     },
     "metadata": {},
     "output_type": "display_data"
    }
   ],
   "source": [
    "df %>% filter(Bioma == '')"
   ]
  },
  {
   "cell_type": "markdown",
   "metadata": {},
   "source": [
    "2 entradas não tem informações de Bioma, para não prejudicar a análise, dada a magnitude pequena da falta de dados, irei ignorar estas duas linhas"
   ]
  },
  {
   "cell_type": "code",
   "execution_count": 12,
   "metadata": {},
   "outputs": [],
   "source": [
    "df <- df %>% filter(Bioma != '')"
   ]
  },
  {
   "cell_type": "code",
   "execution_count": 13,
   "metadata": {},
   "outputs": [
    {
     "data": {
      "text/html": [
       "<ol class=list-inline>\n",
       "\t<li>''</li>\n",
       "\t<li>'Amazonia'</li>\n",
       "\t<li>'Caatinga'</li>\n",
       "\t<li>'Cerrado'</li>\n",
       "\t<li>'Mata Atlantica'</li>\n",
       "\t<li>'Pampa'</li>\n",
       "\t<li>'Pantanal'</li>\n",
       "</ol>\n"
      ],
      "text/latex": [
       "\\begin{enumerate*}\n",
       "\\item ''\n",
       "\\item 'Amazonia'\n",
       "\\item 'Caatinga'\n",
       "\\item 'Cerrado'\n",
       "\\item 'Mata Atlantica'\n",
       "\\item 'Pampa'\n",
       "\\item 'Pantanal'\n",
       "\\end{enumerate*}\n"
      ],
      "text/markdown": [
       "1. ''\n",
       "2. 'Amazonia'\n",
       "3. 'Caatinga'\n",
       "4. 'Cerrado'\n",
       "5. 'Mata Atlantica'\n",
       "6. 'Pampa'\n",
       "7. 'Pantanal'\n",
       "\n",
       "\n"
      ],
      "text/plain": [
       "[1] \"\"               \"Amazonia\"       \"Caatinga\"       \"Cerrado\"       \n",
       "[5] \"Mata Atlantica\" \"Pampa\"          \"Pantanal\"      "
      ]
     },
     "metadata": {},
     "output_type": "display_data"
    }
   ],
   "source": [
    "levels(df$Bioma)"
   ]
  },
  {
   "cell_type": "code",
   "execution_count": 14,
   "metadata": {},
   "outputs": [],
   "source": [
    "# Precisamos atualizar a lista de factors da coluna de Bioma \n",
    "# pois retiramos a entrada com bioma = ''\n",
    "df$Bioma <- factor(df$Bioma)"
   ]
  },
  {
   "cell_type": "code",
   "execution_count": 15,
   "metadata": {},
   "outputs": [
    {
     "data": {
      "text/html": [
       "<ol class=list-inline>\n",
       "\t<li>'Amazonia'</li>\n",
       "\t<li>'Caatinga'</li>\n",
       "\t<li>'Cerrado'</li>\n",
       "\t<li>'Mata Atlantica'</li>\n",
       "\t<li>'Pampa'</li>\n",
       "\t<li>'Pantanal'</li>\n",
       "</ol>\n"
      ],
      "text/latex": [
       "\\begin{enumerate*}\n",
       "\\item 'Amazonia'\n",
       "\\item 'Caatinga'\n",
       "\\item 'Cerrado'\n",
       "\\item 'Mata Atlantica'\n",
       "\\item 'Pampa'\n",
       "\\item 'Pantanal'\n",
       "\\end{enumerate*}\n"
      ],
      "text/markdown": [
       "1. 'Amazonia'\n",
       "2. 'Caatinga'\n",
       "3. 'Cerrado'\n",
       "4. 'Mata Atlantica'\n",
       "5. 'Pampa'\n",
       "6. 'Pantanal'\n",
       "\n",
       "\n"
      ],
      "text/plain": [
       "[1] \"Amazonia\"       \"Caatinga\"       \"Cerrado\"        \"Mata Atlantica\"\n",
       "[5] \"Pampa\"          \"Pantanal\"      "
      ]
     },
     "metadata": {},
     "output_type": "display_data"
    }
   ],
   "source": [
    "levels(df$Bioma)"
   ]
  },
  {
   "cell_type": "markdown",
   "metadata": {},
   "source": [
    "## Dividindo os Dados por Bioma"
   ]
  },
  {
   "cell_type": "code",
   "execution_count": 24,
   "metadata": {},
   "outputs": [
    {
     "data": {
      "text/plain": [
       "\n",
       "      Amazonia       Caatinga        Cerrado Mata Atlantica          Pampa \n",
       "       1322144         138290         669191         138908           7930 \n",
       "      Pantanal \n",
       "         59807 "
      ]
     },
     "metadata": {},
     "output_type": "display_data"
    }
   ],
   "source": [
    "counts <- table(df$Bioma)\n",
    "counts"
   ]
  },
  {
   "cell_type": "code",
   "execution_count": 25,
   "metadata": {},
   "outputs": [
    {
     "data": {
      "text/plain": [
       "\n",
       "      Amazonia       Caatinga        Cerrado Mata Atlantica          Pampa \n",
       "   0.565920891    0.059192645    0.286435643    0.059457169    0.003394299 \n",
       "      Pantanal \n",
       "   0.025599353 "
      ]
     },
     "metadata": {},
     "output_type": "display_data"
    }
   ],
   "source": [
    "proportions <- counts / sum(counts)\n",
    "proportions"
   ]
  },
  {
   "cell_type": "code",
   "execution_count": 31,
   "metadata": {},
   "outputs": [],
   "source": [
    "df_prop <- as.data.frame(proportions)\n",
    "names(df_prop) <- c('Bioma', 'proportions')"
   ]
  },
  {
   "cell_type": "code",
   "execution_count": 50,
   "metadata": {},
   "outputs": [
    {
     "data": {
      "image/png": "[encoded data removed]",
      "text/plain": [
       "plot without title"
      ]
     },
     "metadata": {},
     "output_type": "display_data"
    }
   ],
   "source": [
    "ggplot(df, aes(x = Bioma)) + \n",
    "    geom_bar() +\n",
    "    coord_flip()"
   ]
  }
 ],
 "metadata": {
  "kernelspec": {
   "display_name": "R",
   "language": "R",
   "name": "ir"
  },
  "language_info": {
   "codemirror_mode": "r",
   "file_extension": ".r",
   "mimetype": "text/x-r-source",
   "name": "R",
   "pygments_lexer": "r",
   "version": "3.6.1"
  }
 },
 "nbformat": 4,
 "nbformat_minor": 2
}
